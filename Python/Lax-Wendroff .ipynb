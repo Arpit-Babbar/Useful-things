{
 "cells": [
  {
   "cell_type": "markdown",
   "metadata": {},
   "source": [
    "Here, we will compute the fluxes $F_{i+\\frac 12,j},G_{i,j+\\frac 12}$ in Lax-Wendroff for $N_x = N_y= 2$"
   ]
  },
  {
   "cell_type": "code",
   "execution_count": 88,
   "metadata": {},
   "outputs": [],
   "source": [
    "import numpy as np\n",
    "from numpy import sin"
   ]
  },
  {
   "cell_type": "code",
   "execution_count": 107,
   "metadata": {},
   "outputs": [],
   "source": [
    "n = 3.0\n",
    "u = 1.0; v = 1.0\n",
    "N_x = n; N_y = n\n",
    "xmin = -1.0; xmax = 1.0;ymin = -1.0;ymax = 1.0\n",
    "dx = 2.0/N_x; dy=2.0/N_y;dt = 0.72*0.9*(dx/2.)\n",
    "lam_x = dt/dx; lam_y = dt/dy\n",
    "#Reduces (i,j) to the periodic indices\n",
    "def t(i,j):#t for term\n",
    "    assert (i<=n and j <= n), \"i,j can't be > n!!\"\n",
    "    if i== n:\n",
    "        i = 0\n",
    "    if i==-1:\n",
    "        i = n-1\n",
    "    if j== n:\n",
    "        j = 0\n",
    "    if j==-1:\n",
    "        j=n-1\n",
    "    return (i,j)"
   ]
  },
  {
   "cell_type": "code",
   "execution_count": 108,
   "metadata": {},
   "outputs": [],
   "source": [
    "grid = np.linspace(-1.+0.5*dx,1.-0.5*dx,int(n))\n",
    "grid\n",
    "x_1,y_1=np.meshgrid(grid,grid)\n",
    "Flux = np.zeros(shape=(int(n),int(n)))"
   ]
  },
  {
   "cell_type": "code",
   "execution_count": 109,
   "metadata": {},
   "outputs": [
    {
     "data": {
      "text/plain": [
       "array([[ 0.75, -0.  , -0.75],\n",
       "       [-0.  ,  0.  ,  0.  ],\n",
       "       [-0.75,  0.  ,  0.75]])"
      ]
     },
     "execution_count": 109,
     "metadata": {},
     "output_type": "execute_result"
    }
   ],
   "source": [
    "Flux = sin(np.pi*x_1)*sin(np.pi*y_1)\n",
    "Flux"
   ]
  },
  {
   "cell_type": "code",
   "execution_count": 110,
   "metadata": {
    "scrolled": true
   },
   "outputs": [],
   "source": [
    "#initial data function\n",
    "def Q(a): #Q gives the value at (a[0],a[1])\n",
    "    assert a[0]<=n and a[1]<=n,\"Incorrect indices for Q\"\n",
    "    x = xmin + 0.5*dx + a[0]*dx;y=ymin + 0.5*dy+a[1]*dy\n",
    "    x = 2*x*np.pi/(xmax-xmin);y=2*y*np.pi/(ymax-ymin)\n",
    "    return sin(x)*sin(y)\n",
    "\n",
    "#flux function \n",
    "def flux(i,j,nx,ny):\n",
    "    lam0 = nx*lam_x+ny*lam_y\n",
    "    v_n  = nx*u+ny*v\n",
    "    lam1 = ny*lam_x+nx*lam_y\n",
    "    v_t  = ny*u+nx*v\n",
    "    flux = 0.5*v_n*(Q(t(i+nx,j+ny))+Q([i,j])) \\\n",
    "          -0.5*v_n**2*lam0*(Q(t(i+nx,j+ny)) - Q([i,j])) \\\n",
    "          -0.125*v_n*v_t*lam1*((Q(t(i+ny,j+nx))-Q(t(i-ny,j-nx))) \\\n",
    "                          +(Q(t(i+1,j+1))-Q(t(i+nx-ny,j-nx+ny))))\n",
    "    return flux"
   ]
  },
  {
   "cell_type": "code",
   "execution_count": 111,
   "metadata": {},
   "outputs": [],
   "source": [
    "Flux = np.zeros(shape=(int(n),int(n)))"
   ]
  },
  {
   "cell_type": "code",
   "execution_count": 112,
   "metadata": {},
   "outputs": [],
   "source": [
    "c = 0.0\n",
    "for i in range(0,int(n)):\n",
    "    for j in range(0,int(n)):\n",
    "        Flux[t(i,j)] = c\n",
    "        c = c+1"
   ]
  },
  {
   "cell_type": "code",
   "execution_count": 113,
   "metadata": {},
   "outputs": [
    {
     "data": {
      "text/plain": [
       "array([[0., 1., 2.],\n",
       "       [3., 4., 5.],\n",
       "       [6., 7., 8.]])"
      ]
     },
     "execution_count": 113,
     "metadata": {},
     "output_type": "execute_result"
    }
   ],
   "source": [
    "Flux"
   ]
  }
 ],
 "metadata": {
  "kernelspec": {
   "display_name": "Python 3",
   "language": "python",
   "name": "python3"
  },
  "language_info": {
   "codemirror_mode": {
    "name": "ipython",
    "version": 3
   },
   "file_extension": ".py",
   "mimetype": "text/x-python",
   "name": "python",
   "nbconvert_exporter": "python",
   "pygments_lexer": "ipython3",
   "version": "3.8.3"
  }
 },
 "nbformat": 4,
 "nbformat_minor": 4
}
