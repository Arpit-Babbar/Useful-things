{
 "cells": [
  {
   "cell_type": "markdown",
   "metadata": {},
   "source": [
    "Here, we will compute the fluxes $F_{i+\\frac 12,j},G_{i,j+\\frac 12}$ in Lax-Wendroff for $N_x = N_y= 2$"
   ]
  },
  {
   "cell_type": "code",
   "execution_count": 9,
   "metadata": {},
   "outputs": [],
   "source": [
    "import numpy as np\n",
    "from numpy import sin"
   ]
  },
  {
   "cell_type": "code",
   "execution_count": 10,
   "metadata": {},
   "outputs": [],
   "source": [
    "n = 100 #Remove decimal from here.\n",
    "u = 1.0; v = 1.0\n",
    "N_x = n; N_y = n\n",
    "xmin = -1.0; xmax = 1.0; ymin = -1.0; ymax = 1.0\n",
    "dx = 2.0/N_x; dy=2.0/N_y; dt = 0.72*0.9*(dx/2.)\n",
    "lam_x = dt/dx; lam_y = dt/dy\n",
    "#Reduces (i,j) to the periodic indices\n",
    "def t(i,j):#t for term\n",
    "    assert (i<=n and j <= n), \"i,j can't be > n!!\"\n",
    "    if i== n:\n",
    "        i = 0\n",
    "    if i==-1:\n",
    "        i = n-1\n",
    "    if j== n:\n",
    "        j = 0\n",
    "    if j==-1:\n",
    "        j=n-1\n",
    "    return (i,j)"
   ]
  },
  {
   "cell_type": "code",
   "execution_count": 11,
   "metadata": {},
   "outputs": [],
   "source": [
    "grid = np.linspace(-1.+0.5*dx,1.-0.5*dx,int(n))\n",
    "x_1,y_1=np.meshgrid(grid,grid)"
   ]
  },
  {
   "cell_type": "code",
   "execution_count": 12,
   "metadata": {},
   "outputs": [
    {
     "data": {
      "text/plain": [
       "array([[1., 1., 1., ..., 1., 1., 1.],\n",
       "       [1., 1., 1., ..., 1., 1., 1.],\n",
       "       [1., 1., 1., ..., 1., 1., 1.],\n",
       "       ...,\n",
       "       [1., 1., 1., ..., 1., 1., 1.],\n",
       "       [1., 1., 1., ..., 1., 1., 1.],\n",
       "       [1., 1., 1., ..., 1., 1., 1.]])"
      ]
     },
     "execution_count": 12,
     "metadata": {},
     "output_type": "execute_result"
    }
   ],
   "source": [
    "#Set initial solution #Q gives the value at (a[0],a[1])\n",
    "solution = np.ones(shape=(n,n))\n",
    "\n",
    "solution.view() #First row starts as (0,0),(0,1),... that format"
   ]
  },
  {
   "cell_type": "code",
   "execution_count": 13,
   "metadata": {
    "scrolled": true
   },
   "outputs": [],
   "source": [
    "#flux function\n",
    "def flux(i,j,nx,ny):\n",
    "    lam0 = nx*lam_x+ny*lam_y\n",
    "    v_n  = nx*u+ny*v\n",
    "    lam1 = ny*lam_x+nx*lam_y\n",
    "    v_t  = ny*u+nx*v\n",
    "    flux0 = 0.5*v_n*(solution[t(i+nx,j+ny)]+solution[i,j]) \\\n",
    "           -0.5*v_n**2*lam0*(solution[t(i+nx,j+ny)] - solution[i,j]) \\\n",
    "           -0.125*v_n*v_t*lam1*((solution[t(i+ny,j+nx)]-solution[t(i-ny,j-nx)]) \\\n",
    "                          +(solution[t(i+1,j+1)]-solution[t(i+nx-ny,j-nx+ny)]))\n",
    "    return flux0\n",
    "def compute_flux():\n",
    "    flux_x = np.zeros(shape=(n,n))\n",
    "    flux_y = np.zeros(shape=(n,n))\n",
    "    for i in range(0,n):\n",
    "        for j in range(0,n):\n",
    "            flux_x[i,j] = flux(i,j,1,0)\n",
    "            flux_y[i,j] = flux(i,j,0,1)\n",
    "    return flux_x,flux_y"
   ]
  },
  {
   "cell_type": "code",
   "execution_count": 14,
   "metadata": {},
   "outputs": [],
   "source": [
    "flux_x,flux_y = compute_flux()\n",
    "residual = np.zeros(shape=(n,n))\n",
    "for i in range(0,n):\n",
    "    for j in range(0,n):\n",
    "        residual[i,j] = -(flux_x[i,j]-flux_x[t(i-1,j)])*dy \\\n",
    "                        -(flux_y[i,j]-flux_y[t(i,j-1)])*dx"
   ]
  },
  {
   "cell_type": "code",
   "execution_count": 15,
   "metadata": {},
   "outputs": [],
   "source": [
    "solution = solution + (dt/(dx*dy))*residual"
   ]
  },
  {
   "cell_type": "code",
   "execution_count": 16,
   "metadata": {},
   "outputs": [
    {
     "data": {
      "text/plain": [
       "array([[1., 1., 1., ..., 1., 1., 1.],\n",
       "       [1., 1., 1., ..., 1., 1., 1.],\n",
       "       [1., 1., 1., ..., 1., 1., 1.],\n",
       "       ...,\n",
       "       [1., 1., 1., ..., 1., 1., 1.],\n",
       "       [1., 1., 1., ..., 1., 1., 1.],\n",
       "       [1., 1., 1., ..., 1., 1., 1.]])"
      ]
     },
     "execution_count": 16,
     "metadata": {},
     "output_type": "execute_result"
    }
   ],
   "source": [
    "solution"
   ]
  },
  {
   "cell_type": "code",
   "execution_count": 17,
   "metadata": {},
   "outputs": [
    {
     "data": {
      "text/plain": [
       "0.0064800000000000005"
      ]
     },
     "execution_count": 17,
     "metadata": {},
     "output_type": "execute_result"
    }
   ],
   "source": [
    "dt"
   ]
  }
 ],
 "metadata": {
  "kernelspec": {
   "display_name": "Python 3",
   "language": "python",
   "name": "python3"
  },
  "language_info": {
   "codemirror_mode": {
    "name": "ipython",
    "version": 3
   },
   "file_extension": ".py",
   "mimetype": "text/x-python",
   "name": "python",
   "nbconvert_exporter": "python",
   "pygments_lexer": "ipython3",
   "version": "3.8.3"
  }
 },
 "nbformat": 4,
 "nbformat_minor": 4
}
