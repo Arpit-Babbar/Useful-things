{
 "cells": [
  {
   "cell_type": "markdown",
   "metadata": {},
   "source": [
    "This code will write the 2D Lax-Wendroff schemes for some particular indices to help us in brute force computations for debugging"
   ]
  },
  {
   "cell_type": "code",
   "execution_count": 4,
   "metadata": {},
   "outputs": [],
   "source": [
    "import numpy as np\n",
    "from IPython.display import display, Markdown, Latex"
   ]
  },
  {
   "cell_type": "markdown",
   "metadata": {},
   "source": [
    "First, we'd make a term generating function which will output a string given the indices as integers and coefficients as numerator+denominator of string. For example, f(i+1,j,\"uv\" \"8 \\lambda_x\") will generate Q_{i+1,j} = \\frac{uv}{8 \\lambda_x}Q_{i+1,j} as output. It will also handle the periodic bc. for that reason, we need to feed n for which the grid is $\\{x_0,x_1,...,x_{n-1}\\}$"
   ]
  },
  {
   "cell_type": "code",
   "execution_count": 5,
   "metadata": {},
   "outputs": [],
   "source": [
    "def t(i,j,n):#t for term\n",
    "    if i==n:\n",
    "        i = 0\n",
    "    if i==-1:\n",
    "        i = n-1\n",
    "    if j==n:\n",
    "        j = 0\n",
    "    if j==-1:\n",
    "        j=n-1\n",
    "    output = \"Q_{\"+str(i)+\",\"+str(j)+\"}\"\n",
    "    return output"
   ]
  },
  {
   "cell_type": "code",
   "execution_count": 6,
   "metadata": {
    "scrolled": true
   },
   "outputs": [
    {
     "data": {
      "text/plain": [
       "'Q_{0,0}'"
      ]
     },
     "execution_count": 6,
     "metadata": {},
     "output_type": "execute_result"
    }
   ],
   "source": [
    "t(2,0,2)"
   ]
  },
  {
   "cell_type": "code",
   "execution_count": 9,
   "metadata": {},
   "outputs": [],
   "source": [
    "#General flux computing function in direction n_x, n_y\n",
    "def flux(nx,ny,n):\n",
    "    output = \"\"\n",
    "    for i in range(0,n):\n",
    "        for j in range(0,n):\n",
    "            out = \"$$\"\n",
    "            if nx == 1:\n",
    "                out += \"F_{\"\n",
    "            else:\n",
    "                out += \"G_{\"\n",
    "            out += str(i+0.5*nx)+\",\"+str(j+0.5*ny)+\"}=\"\n",
    "            if nx == 1:\n",
    "                out += r\"\\frac{u}{2}\\lambda_x\"\n",
    "            else:\n",
    "                out += r\"\\frac{v}{2}\\lambda_y\"\n",
    "            out += r\"\\left(\"+t(i+nx,j+ny,n)+\"-\"+t(i,j,n)+r\"\\right)\"\n",
    "            if nx == 1:\n",
    "                out += r\"-\\frac{u^2\\lambda_x}{2}\"\n",
    "            else:\n",
    "                out += r\"-\\frac{v^2\\lambda_y}{2}\"\n",
    "            out += \"(\" + t(i+nx,j+ny,n)+\"-\"+t(i,j,n)+ \")\"\n",
    "            out += \"-\" \n",
    "            if nx == 1:\n",
    "                out += r\"\\frac{uv}{8} \\lambda_y\" \n",
    "            else:\n",
    "                out += r\"\\frac{uv}{8} \\lambda_x\" \n",
    "            out += r\"\\left(\"\n",
    "            out += \"(\"+t(i+ny,j+nx,n)+\"-\"+t(i-ny,j-nx,n)+ \")\" + \"+\"\n",
    "            out += \"(\" +t(i+1,j+1,n)+ \"-\" + t(i+nx-ny,j-nx+ny,n) + \")\"\n",
    "            out += r\"\\right)\"\n",
    "            out += \"$$\"\n",
    "            print(out) #Output in Latex format to export it\n",
    "            print(\"\") \n",
    "            output = output + out\n",
    "    display(Markdown(output)) #Output in markdown to visualize"
   ]
  },
  {
   "cell_type": "code",
   "execution_count": 10,
   "metadata": {},
   "outputs": [
    {
     "name": "stdout",
     "output_type": "stream",
     "text": [
      "$$G_{0.0,0.5}=\\frac{v}{2}\\lambda_y\\left(Q_{0,1}-Q_{0,0}\\right)-\\frac{v^2\\lambda_y}{2}(Q_{0,1}-Q_{0,0})-\\frac{uv}{8} \\lambda_x\\left((Q_{1,0}-Q_{2,0})+(Q_{1,1}-Q_{2,1})\\right)$$\n",
      "\n",
      "$$G_{0.0,1.5}=\\frac{v}{2}\\lambda_y\\left(Q_{0,2}-Q_{0,1}\\right)-\\frac{v^2\\lambda_y}{2}(Q_{0,2}-Q_{0,1})-\\frac{uv}{8} \\lambda_x\\left((Q_{1,1}-Q_{2,1})+(Q_{1,2}-Q_{2,2})\\right)$$\n",
      "\n",
      "$$G_{0.0,2.5}=\\frac{v}{2}\\lambda_y\\left(Q_{0,0}-Q_{0,2}\\right)-\\frac{v^2\\lambda_y}{2}(Q_{0,0}-Q_{0,2})-\\frac{uv}{8} \\lambda_x\\left((Q_{1,2}-Q_{2,2})+(Q_{1,0}-Q_{2,0})\\right)$$\n",
      "\n",
      "$$G_{1.0,0.5}=\\frac{v}{2}\\lambda_y\\left(Q_{1,1}-Q_{1,0}\\right)-\\frac{v^2\\lambda_y}{2}(Q_{1,1}-Q_{1,0})-\\frac{uv}{8} \\lambda_x\\left((Q_{2,0}-Q_{0,0})+(Q_{2,1}-Q_{0,1})\\right)$$\n",
      "\n",
      "$$G_{1.0,1.5}=\\frac{v}{2}\\lambda_y\\left(Q_{1,2}-Q_{1,1}\\right)-\\frac{v^2\\lambda_y}{2}(Q_{1,2}-Q_{1,1})-\\frac{uv}{8} \\lambda_x\\left((Q_{2,1}-Q_{0,1})+(Q_{2,2}-Q_{0,2})\\right)$$\n",
      "\n",
      "$$G_{1.0,2.5}=\\frac{v}{2}\\lambda_y\\left(Q_{1,0}-Q_{1,2}\\right)-\\frac{v^2\\lambda_y}{2}(Q_{1,0}-Q_{1,2})-\\frac{uv}{8} \\lambda_x\\left((Q_{2,2}-Q_{0,2})+(Q_{2,0}-Q_{0,0})\\right)$$\n",
      "\n",
      "$$G_{2.0,0.5}=\\frac{v}{2}\\lambda_y\\left(Q_{2,1}-Q_{2,0}\\right)-\\frac{v^2\\lambda_y}{2}(Q_{2,1}-Q_{2,0})-\\frac{uv}{8} \\lambda_x\\left((Q_{0,0}-Q_{1,0})+(Q_{0,1}-Q_{1,1})\\right)$$\n",
      "\n",
      "$$G_{2.0,1.5}=\\frac{v}{2}\\lambda_y\\left(Q_{2,2}-Q_{2,1}\\right)-\\frac{v^2\\lambda_y}{2}(Q_{2,2}-Q_{2,1})-\\frac{uv}{8} \\lambda_x\\left((Q_{0,1}-Q_{1,1})+(Q_{0,2}-Q_{1,2})\\right)$$\n",
      "\n",
      "$$G_{2.0,2.5}=\\frac{v}{2}\\lambda_y\\left(Q_{2,0}-Q_{2,2}\\right)-\\frac{v^2\\lambda_y}{2}(Q_{2,0}-Q_{2,2})-\\frac{uv}{8} \\lambda_x\\left((Q_{0,2}-Q_{1,2})+(Q_{0,0}-Q_{1,0})\\right)$$\n",
      "\n"
     ]
    },
    {
     "data": {
      "text/markdown": [
       "$$G_{0.0,0.5}=\\frac{v}{2}\\lambda_y\\left(Q_{0,1}-Q_{0,0}\\right)-\\frac{v^2\\lambda_y}{2}(Q_{0,1}-Q_{0,0})-\\frac{uv}{8} \\lambda_x\\left((Q_{1,0}-Q_{2,0})+(Q_{1,1}-Q_{2,1})\\right)$$$$G_{0.0,1.5}=\\frac{v}{2}\\lambda_y\\left(Q_{0,2}-Q_{0,1}\\right)-\\frac{v^2\\lambda_y}{2}(Q_{0,2}-Q_{0,1})-\\frac{uv}{8} \\lambda_x\\left((Q_{1,1}-Q_{2,1})+(Q_{1,2}-Q_{2,2})\\right)$$$$G_{0.0,2.5}=\\frac{v}{2}\\lambda_y\\left(Q_{0,0}-Q_{0,2}\\right)-\\frac{v^2\\lambda_y}{2}(Q_{0,0}-Q_{0,2})-\\frac{uv}{8} \\lambda_x\\left((Q_{1,2}-Q_{2,2})+(Q_{1,0}-Q_{2,0})\\right)$$$$G_{1.0,0.5}=\\frac{v}{2}\\lambda_y\\left(Q_{1,1}-Q_{1,0}\\right)-\\frac{v^2\\lambda_y}{2}(Q_{1,1}-Q_{1,0})-\\frac{uv}{8} \\lambda_x\\left((Q_{2,0}-Q_{0,0})+(Q_{2,1}-Q_{0,1})\\right)$$$$G_{1.0,1.5}=\\frac{v}{2}\\lambda_y\\left(Q_{1,2}-Q_{1,1}\\right)-\\frac{v^2\\lambda_y}{2}(Q_{1,2}-Q_{1,1})-\\frac{uv}{8} \\lambda_x\\left((Q_{2,1}-Q_{0,1})+(Q_{2,2}-Q_{0,2})\\right)$$$$G_{1.0,2.5}=\\frac{v}{2}\\lambda_y\\left(Q_{1,0}-Q_{1,2}\\right)-\\frac{v^2\\lambda_y}{2}(Q_{1,0}-Q_{1,2})-\\frac{uv}{8} \\lambda_x\\left((Q_{2,2}-Q_{0,2})+(Q_{2,0}-Q_{0,0})\\right)$$$$G_{2.0,0.5}=\\frac{v}{2}\\lambda_y\\left(Q_{2,1}-Q_{2,0}\\right)-\\frac{v^2\\lambda_y}{2}(Q_{2,1}-Q_{2,0})-\\frac{uv}{8} \\lambda_x\\left((Q_{0,0}-Q_{1,0})+(Q_{0,1}-Q_{1,1})\\right)$$$$G_{2.0,1.5}=\\frac{v}{2}\\lambda_y\\left(Q_{2,2}-Q_{2,1}\\right)-\\frac{v^2\\lambda_y}{2}(Q_{2,2}-Q_{2,1})-\\frac{uv}{8} \\lambda_x\\left((Q_{0,1}-Q_{1,1})+(Q_{0,2}-Q_{1,2})\\right)$$$$G_{2.0,2.5}=\\frac{v}{2}\\lambda_y\\left(Q_{2,0}-Q_{2,2}\\right)-\\frac{v^2\\lambda_y}{2}(Q_{2,0}-Q_{2,2})-\\frac{uv}{8} \\lambda_x\\left((Q_{0,2}-Q_{1,2})+(Q_{0,0}-Q_{1,0})\\right)$$"
      ],
      "text/plain": [
       "<IPython.core.display.Markdown object>"
      ]
     },
     "metadata": {},
     "output_type": "display_data"
    }
   ],
   "source": [
    "flux(0,1,3)"
   ]
  },
  {
   "cell_type": "markdown",
   "metadata": {},
   "source": [
    "There is scope to generalize it further(Would require an overloaded function the way I imagine it now), where we can have 'bracket open' and 'bracket close' function with labels and stuff."
   ]
  },
  {
   "cell_type": "code",
   "execution_count": null,
   "metadata": {},
   "outputs": [],
   "source": []
  }
 ],
 "metadata": {
  "kernelspec": {
   "display_name": "Python 3",
   "language": "python",
   "name": "python3"
  },
  "language_info": {
   "codemirror_mode": {
    "name": "ipython",
    "version": 3
   },
   "file_extension": ".py",
   "mimetype": "text/x-python",
   "name": "python",
   "nbconvert_exporter": "python",
   "pygments_lexer": "ipython3",
   "version": "3.8.3"
  }
 },
 "nbformat": 4,
 "nbformat_minor": 4
}
